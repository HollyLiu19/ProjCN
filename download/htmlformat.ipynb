{
 "cells": [
  {
   "cell_type": "code",
   "execution_count": 1,
   "metadata": {},
   "outputs": [],
   "source": [
    "from bs4 import BeautifulSoup\n",
    "import re"
   ]
  },
  {
   "cell_type": "code",
   "execution_count": 2,
   "metadata": {},
   "outputs": [],
   "source": [
    "htmlcodes = open('i502201901.txt', encoding = 'utf-8').read()\n",
    "soup = BeautifulSoup(htmlcodes, 'lxml')"
   ]
  },
  {
   "cell_type": "code",
   "execution_count": 3,
   "metadata": {},
   "outputs": [
    {
     "data": {
      "text/plain": [
       "'11419'"
      ]
     },
     "execution_count": 3,
     "metadata": {},
     "output_type": "execute_result"
    }
   ],
   "source": [
    "nrow = soup.p.span.text # the 1st p has number of rows of the table in span\n",
    "nrow"
   ]
  },
  {
   "cell_type": "code",
   "execution_count": 4,
   "metadata": {},
   "outputs": [
    {
     "data": {
      "text/plain": [
       "<p class=\"c-666\">A total of <span style=\"color: #00b9d4\">11419</span> data queries</p>"
      ]
     },
     "execution_count": 4,
     "metadata": {},
     "output_type": "execute_result"
    }
   ],
   "source": [
    "soup.p"
   ]
  },
  {
   "cell_type": "code",
   "execution_count": 5,
   "metadata": {},
   "outputs": [
    {
     "data": {
      "text/plain": [
       "'A total of 11419 data queries'"
      ]
     },
     "execution_count": 5,
     "metadata": {},
     "output_type": "execute_result"
    }
   ],
   "source": [
    "soup.p.text # text transforms content into printable form"
   ]
  },
  {
   "cell_type": "code",
   "execution_count": 6,
   "metadata": {},
   "outputs": [
    {
     "data": {
      "text/plain": [
       "'Other integrated...'"
      ]
     },
     "execution_count": 6,
     "metadata": {},
     "output_type": "execute_result"
    }
   ],
   "source": [
    "soup.find(string = re.compile('\\.\\.\\.$'))"
   ]
  },
  {
   "cell_type": "code",
   "execution_count": 7,
   "metadata": {},
   "outputs": [
    {
     "data": {
      "text/plain": [
       "<div class=\"th-line\" title=\"Other integrated circuits\">Other integrated...</div>"
      ]
     },
     "execution_count": 7,
     "metadata": {},
     "output_type": "execute_result"
    }
   ],
   "source": [
    "soup.select('tr', limit = 1)[0].find_all('div', class_ = 'th-line')[4] # every .() in this chain returns a list"
   ]
  },
  {
   "cell_type": "code",
   "execution_count": 8,
   "metadata": {},
   "outputs": [
    {
     "data": {
      "text/plain": [
       "<div class=\"th-line\" title=\"Processing with Imported Materials\">Processing with ...</div>"
      ]
     },
     "execution_count": 8,
     "metadata": {},
     "output_type": "execute_result"
    }
   ],
   "source": [
    "soup.select('tr', limit = 1)[0].find_all('div', class_ = 'th-line')[6]"
   ]
  },
  {
   "cell_type": "code",
   "execution_count": 9,
   "metadata": {},
   "outputs": [
    {
     "data": {
      "text/plain": [
       "<div class=\"th-line\" title=\"Processing with Imported Materials\">Processing with ...</div>"
      ]
     },
     "execution_count": 9,
     "metadata": {},
     "output_type": "execute_result"
    }
   ],
   "source": [
    "soup.find_all('div', class_ = 'th-line', limit = 10)[6]"
   ]
  },
  {
   "cell_type": "code",
   "execution_count": 10,
   "metadata": {},
   "outputs": [
    {
     "data": {
      "text/plain": [
       "'Processing with Imported Materials'"
      ]
     },
     "execution_count": 10,
     "metadata": {},
     "output_type": "execute_result"
    }
   ],
   "source": [
    "soup.find_all('div', class_ = 'th-line', limit = 10)[6].get('title')"
   ]
  },
  {
   "cell_type": "code",
   "execution_count": 11,
   "metadata": {},
   "outputs": [
    {
     "data": {
      "text/plain": [
       "'Processing with ...'"
      ]
     },
     "execution_count": 11,
     "metadata": {},
     "output_type": "execute_result"
    }
   ],
   "source": [
    "soup.find_all('div', class_ = 'th-line', limit = 10)[6].text # .text is display only, use .string to set value"
   ]
  },
  {
   "cell_type": "code",
   "execution_count": 12,
   "metadata": {},
   "outputs": [
    {
     "data": {
      "text/plain": [
       "[<div class=\"th-line\" style=\"border-left: hidden\">201901</div>,\n",
       " <div class=\"th-line\">502</div>,\n",
       " <div class=\"th-line\" title=\"United States\">United States</div>,\n",
       " <div class=\"th-line\">85423990</div>,\n",
       " <div class=\"th-line\" title=\"Other integrated circuits\">Other integrated circuits</div>,\n",
       " <div class=\"th-line\">15</div>,\n",
       " <div class=\"th-line\" title=\"Processing with Imported Materials\">Processing with Imported Materials</div>,\n",
       " <div class=\"th-line\">1270943492</div>,\n",
       " <div class=\"th-line\">Number of item</div>,\n",
       " <div class=\"th-line\">6998</div>,\n",
       " <div class=\"th-line\">Kilogram</div>,\n",
       " <div class=\"th-line\">56,121,645</div>,\n",
       " <div class=\"th-line\" style=\"border-left: hidden\">201901</div>,\n",
       " <div class=\"th-line\">502</div>,\n",
       " <div class=\"th-line\" title=\"United States\">United States</div>,\n",
       " <div class=\"th-line\">85423190</div>,\n",
       " <div class=\"th-line\" title=\"Other integrated circuits, as processors and controllers\">Other integrated circuits, as processors and controllers</div>,\n",
       " <div class=\"th-line\">15</div>,\n",
       " <div class=\"th-line\" title=\"Processing with Imported Materials\">Processing with Imported Materials</div>,\n",
       " <div class=\"th-line\">760458573</div>,\n",
       " <div class=\"th-line\">Number of item</div>,\n",
       " <div class=\"th-line\">13642</div>,\n",
       " <div class=\"th-line\">Kilogram</div>,\n",
       " <div class=\"th-line\">180,900,533</div>,\n",
       " <div class=\"th-line\" style=\"border-left: hidden\">201901</div>,\n",
       " <div class=\"th-line\">502</div>,\n",
       " <div class=\"th-line\" title=\"United States\">United States</div>,\n",
       " <div class=\"th-line\">47071000</div>,\n",
       " <div class=\"th-line\" title=\"Waste &amp; scrap of unbleached kraft/corrugatd paper or paperboard\">Waste &amp; scrap of unbleached kraft/corrugatd paper or paperboard</div>,\n",
       " <div class=\"th-line\">10</div>,\n",
       " <div class=\"th-line\" title=\"Ordinary Trade\">Ordinary Trade</div>,\n",
       " <div class=\"th-line\">243427961</div>,\n",
       " <div class=\"th-line\">Kilogram</div>,\n",
       " <div class=\"th-line\">—</div>,\n",
       " <div class=\"th-line\">—</div>,\n",
       " <div class=\"th-line\">65,193,334</div>,\n",
       " <div class=\"th-line\" style=\"border-left: hidden\">201901</div>,\n",
       " <div class=\"th-line\">502</div>,\n",
       " <div class=\"th-line\" title=\"United States\">United States</div>,\n",
       " <div class=\"th-line\">85416000</div>,\n",
       " <div class=\"th-line\" title=\"Mounted piezo-electric crystals\">Mounted piezo-electric crystals</div>,\n",
       " <div class=\"th-line\">15</div>,\n",
       " <div class=\"th-line\" title=\"Processing with Imported Materials\">Processing with Imported Materials</div>,\n",
       " <div class=\"th-line\">190549742</div>,\n",
       " <div class=\"th-line\">Number of item</div>,\n",
       " <div class=\"th-line\">12297</div>,\n",
       " <div class=\"th-line\">Kilogram</div>,\n",
       " <div class=\"th-line\">22,304,234</div>,\n",
       " <div class=\"th-line\" style=\"border-left: hidden\">201901</div>,\n",
       " <div class=\"th-line\">502</div>]"
      ]
     },
     "execution_count": 12,
     "metadata": {},
     "output_type": "execute_result"
    }
   ],
   "source": [
    "for trow in soup.select('tr'):\n",
    "    tmp = trow.find_all('div', class_ = 'th-line')\n",
    "    tmp[4].string = tmp[4].get('title')\n",
    "    tmp[6].string = tmp[6].get('title')\n",
    "soup.find_all('div', class_ = 'th-line', limit = 50)"
   ]
  },
  {
   "cell_type": "code",
   "execution_count": 13,
   "metadata": {},
   "outputs": [
    {
     "data": {
      "text/plain": [
       "<div class=\"th-line\" title=\"Waste &amp; scrap of unbleached kraft/corrugatd paper or paperboard\">Waste &amp; scrap of unbleached kraft/corrugatd paper or paperboard</div>"
      ]
     },
     "execution_count": 13,
     "metadata": {},
     "output_type": "execute_result"
    }
   ],
   "source": [
    "soup.select('tr', limit = 3)[2].find_all('div', class_ = \"th-line\")[4]"
   ]
  },
  {
   "cell_type": "code",
   "execution_count": 14,
   "metadata": {},
   "outputs": [
    {
     "data": {
      "text/plain": [
       "'Waste & scrap of unbleached kraft/corrugatd paper or paperboard'"
      ]
     },
     "execution_count": 14,
     "metadata": {},
     "output_type": "execute_result"
    }
   ],
   "source": [
    "soup.select('tr', limit = 3)[2].find_all('div', class_ = \"th-line\")[4].text"
   ]
  },
  {
   "cell_type": "code",
   "execution_count": 15,
   "metadata": {},
   "outputs": [
    {
     "name": "stdout",
     "output_type": "stream",
     "text": [
      "[['201901', '502', 'United States', '85423990', 'Other integrated circuits', '15', 'Processing with Imported Materials', '1270943492', 'Number of item', '6998', 'Kilogram', '56,121,645'], ['201901', '502', 'United States', '85423190', 'Other integrated circuits, as processors and controllers', '15', 'Processing with Imported Materials', '760458573', 'Number of item', '13642', 'Kilogram', '180,900,533'], ['201901', '502', 'United States', '47071000', 'Waste & scrap of unbleached kraft/corrugatd paper or paperboard', '10', 'Ordinary Trade', '243427961', 'Kilogram', '—', '—', '65,193,334'], ['201901', '502', 'United States', '85416000', 'Mounted piezo-electric crystals', '15', 'Processing with Imported Materials', '190549742', 'Number of item', '12297', 'Kilogram', '22,304,234'], ['201901', '502', 'United States', '85423990', 'Other integrated circuits', '10', 'Ordinary Trade', '167448800', 'Number of item', '3177', 'Kilogram', '24,174,321']]\n"
     ]
    }
   ],
   "source": [
    "data = []\n",
    "for trow in soup.find_all('tr'):\n",
    "    cols = trow.find_all('td')\n",
    "    cols = [ele.div.text.strip() for ele in cols]\n",
    "    data.append([ele for ele in cols])\n",
    "if len(data) == int(nrow): print(data[0:5])"
   ]
  },
  {
   "cell_type": "code",
   "execution_count": 16,
   "metadata": {},
   "outputs": [
    {
     "data": {
      "text/plain": [
       "0"
      ]
     },
     "execution_count": 16,
     "metadata": {},
     "output_type": "execute_result"
    }
   ],
   "source": [
    "len([i for i in data if len(i[3]) != 8]) # check if every commodity code is 8-digit"
   ]
  },
  {
   "cell_type": "code",
   "execution_count": 17,
   "metadata": {},
   "outputs": [],
   "source": [
    "import csv\n",
    "# 'a' append 'a+' create if not exist\n",
    "with open('import.csv', 'a+', newline='', encoding='utf-8') as f:\n",
    "    writer = csv.writer(f, quoting = csv.QUOTE_ALL, quotechar = '\"', lineterminator = ',\\n')\n",
    "    writer.writerows(data)"
   ]
  },
  {
   "cell_type": "code",
   "execution_count": 18,
   "metadata": {},
   "outputs": [
    {
     "data": {
      "text/plain": [
       "[[1, 2], [3, 5], [2, 3], [4, 5]]"
      ]
     },
     "execution_count": 18,
     "metadata": {},
     "output_type": "execute_result"
    }
   ],
   "source": [
    "[[1,2],[3,5]]+[[2,3],[4,5]]"
   ]
  }
 ],
 "metadata": {
  "kernelspec": {
   "display_name": "Python 3",
   "language": "python",
   "name": "python3"
  },
  "language_info": {
   "codemirror_mode": {
    "name": "ipython",
    "version": 3
   },
   "file_extension": ".py",
   "mimetype": "text/x-python",
   "name": "python",
   "nbconvert_exporter": "python",
   "pygments_lexer": "ipython3",
   "version": "3.6.4"
  }
 },
 "nbformat": 4,
 "nbformat_minor": 2
}
